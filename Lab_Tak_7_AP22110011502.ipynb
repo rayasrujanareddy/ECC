{
  "nbformat": 4,
  "nbformat_minor": 0,
  "metadata": {
    "colab": {
      "provenance": [],
      "authorship_tag": "ABX9TyMDcb8wTx5Pe69cgGzAuvIY",
      "include_colab_link": true
    },
    "kernelspec": {
      "name": "python3",
      "display_name": "Python 3"
    },
    "language_info": {
      "name": "python"
    }
  },
  "cells": [
    {
      "cell_type": "markdown",
      "metadata": {
        "id": "view-in-github",
        "colab_type": "text"
      },
      "source": [
        "<a href=\"https://colab.research.google.com/github/rayasrujanareddy/ECC/blob/main/Lab_Tak_7_AP22110011502.ipynb\" target=\"_parent\"><img src=\"https://colab.research.google.com/assets/colab-badge.svg\" alt=\"Open In Colab\"/></a>"
      ]
    },
    {
      "cell_type": "markdown",
      "source": [
        "1.Write a program to perform a key exchange using ECC."
      ],
      "metadata": {
        "id": "jaVNarExYigS"
      }
    },
    {
      "cell_type": "code",
      "execution_count": 3,
      "metadata": {
        "colab": {
          "base_uri": "https://localhost:8080/"
        },
        "id": "24PNAu8nYdI9",
        "outputId": "35e77fda-0181-4dc8-b17c-932f91a8b5c7"
      },
      "outputs": [
        {
          "output_type": "stream",
          "name": "stdout",
          "text": [
            "Shared secret established successfully: 65684ee5596506d103f3a8cf03ae456bb71ed0ac4dae17dd06bfee7e5de03b6a\n"
          ]
        }
      ],
      "source": [
        "from cryptography.hazmat.primitives.asymmetric import ec\n",
        "from cryptography.hazmat.primitives import serialization\n",
        "\n",
        "# Generate private keys for both parties\n",
        "alice_private_key = ec.generate_private_key(ec.SECP256R1())\n",
        "bob_private_key = ec.generate_private_key(ec.SECP256R1())\n",
        "\n",
        "# Derive public keys\n",
        "alice_public_key = alice_private_key.public_key()\n",
        "bob_public_key = bob_private_key.public_key()\n",
        "\n",
        "# Exchange public keys and compute shared secret\n",
        "alice_shared_secret = alice_private_key.exchange(ec.ECDH(), bob_public_key)\n",
        "bob_shared_secret = bob_private_key.exchange(ec.ECDH(), alice_public_key)\n",
        "\n",
        "# Verify both computed the same shared secret\n",
        "assert alice_shared_secret == bob_shared_secret\n",
        "\n",
        "print(\"Shared secret established successfully:\", alice_shared_secret.hex())\n"
      ]
    },
    {
      "cell_type": "markdown",
      "source": [
        "2.Write a program to encrypt and decrypt the message “Hell0 SRM AP” using Elliptic Curve\n",
        "Cryptography and AES.\n",
        "Use two different curve and report the changes."
      ],
      "metadata": {
        "id": "IORJv0ZYZt3v"
      }
    },
    {
      "cell_type": "code",
      "source": [
        "from cryptography.hazmat.primitives.asymmetric import ec\n",
        "from cryptography.hazmat.primitives import serialization\n",
        "from cryptography.hazmat.primitives.kdf.hkdf import HKDF\n",
        "from cryptography.hazmat.primitives import hashes\n",
        "from cryptography.hazmat.primitives.ciphers import Cipher, algorithms, modes\n",
        "import os\n",
        "\n",
        "# Function to derive AES key from shared secret\n",
        "def derive_key(shared_secret):\n",
        "    return HKDF(\n",
        "        algorithm=hashes.SHA256(),\n",
        "        length=32,\n",
        "        salt=None,\n",
        "        info=b'AES key derivation'\n",
        "    ).derive(shared_secret)\n",
        "\n",
        "# Function to encrypt a message using AES-GCM\n",
        "def encrypt_message(aes_key, message):\n",
        "    iv = os.urandom(12)\n",
        "    cipher = Cipher(algorithms.AES(aes_key), modes.GCM(iv))\n",
        "    encryptor = cipher.encryptor()\n",
        "    ciphertext = encryptor.update(message.encode()) + encryptor.finalize()\n",
        "    return iv, encryptor.tag, ciphertext\n",
        "\n",
        "# Function to decrypt a message using AES-GCM\n",
        "def decrypt_message(aes_key, iv, tag, ciphertext):\n",
        "    cipher = Cipher(algorithms.AES(aes_key), modes.GCM(iv, tag))\n",
        "    decryptor = cipher.decryptor()\n",
        "    return decryptor.update(ciphertext) + decryptor.finalize()\n",
        "\n",
        "# Using two different curves\n",
        "curves = [ec.SECP256R1(), ec.SECP384R1()]\n",
        "\n",
        "for curve in curves:\n",
        "    print(f\"Using curve: {curve.name}\")\n",
        "\n",
        "    # Generate private keys for both parties\n",
        "    alice_private_key = ec.generate_private_key(curve)\n",
        "    bob_private_key = ec.generate_private_key(curve)\n",
        "\n",
        "    # Derive public keys\n",
        "    alice_public_key = alice_private_key.public_key()\n",
        "    bob_public_key = bob_private_key.public_key()\n",
        "\n",
        "    # Exchange public keys and compute shared secret\n",
        "    alice_shared_secret = alice_private_key.exchange(ec.ECDH(), bob_public_key)\n",
        "    bob_shared_secret = bob_private_key.exchange(ec.ECDH(), alice_public_key)\n",
        "\n",
        "    # Verify both computed the same shared secret\n",
        "    assert alice_shared_secret == bob_shared_secret\n",
        "\n",
        "    # Derive AES key from shared secret\n",
        "    aes_key = derive_key(alice_shared_secret)\n",
        "\n",
        "    # Encrypt and decrypt the message\n",
        "    message = \"Hell0 SRM AP\"\n",
        "    iv, tag, ciphertext = encrypt_message(aes_key, message)\n",
        "    decrypted_message = decrypt_message(aes_key, iv, tag, ciphertext)\n",
        "\n",
        "    print(\"Original Message:\", message)\n",
        "    print(\"Ciphertext:\", ciphertext.hex())\n",
        "    print(\"Decrypted Message:\", decrypted_message.decode())\n",
        "    print(\"----------------------------------\")\n"
      ],
      "metadata": {
        "colab": {
          "base_uri": "https://localhost:8080/"
        },
        "id": "n4N_RrivZvY_",
        "outputId": "7f4adb4f-1da1-4def-b7ce-3e04d4ba21c0"
      },
      "execution_count": 30,
      "outputs": [
        {
          "output_type": "stream",
          "name": "stdout",
          "text": [
            "Using curve: secp256r1\n",
            "Original Message: Hell0 SRM AP\n",
            "Ciphertext: 60a97df5b38e95206f5c1c63\n",
            "Decrypted Message: Hell0 SRM AP\n",
            "----------------------------------\n",
            "Using curve: secp384r1\n",
            "Original Message: Hell0 SRM AP\n",
            "Ciphertext: da04e010170bc3173000746c\n",
            "Decrypted Message: Hell0 SRM AP\n",
            "----------------------------------\n"
          ]
        }
      ]
    }
  ]
}